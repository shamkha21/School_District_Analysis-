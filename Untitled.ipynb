{
 "cells": [
  {
   "cell_type": "code",
   "execution_count": null,
   "id": "1fa302c7",
   "metadata": {},
   "outputs": [],
   "source": [
    "%matplotlib inline "
   ]
  },
  {
   "cell_type": "code",
   "execution_count": 2,
   "id": "3a85f908",
   "metadata": {},
   "outputs": [],
   "source": [
    "import matplotlib.pyplot as plt"
   ]
  },
  {
   "cell_type": "code",
   "execution_count": null,
   "id": "dc866e2e",
   "metadata": {},
   "outputs": [],
   "source": [
    "x_axis= [\"Jan\", \"Feb\", \"Mar\", \"April\", \"May\", \"June\", \"July\", \"Aug\", \"Sept\", \"Oct\",\"Nov\", \"Dec\"]"
   ]
  },
  {
   "cell_type": "code",
   "execution_count": null,
   "id": "205a6cf2",
   "metadata": {},
   "outputs": [],
   "source": [
    "y_axis=[10.02, 23.24, 39.20, 35.42,27.04,43.82,10.56,11.85,27.90,20.71,20.09]"
   ]
  },
  {
   "cell_type": "code",
   "execution_count": null,
   "id": "734e8652",
   "metadata": {},
   "outputs": [],
   "source": [
    "plt.plot(x_axis, y_axis)"
   ]
  }
 ],
 "metadata": {
  "kernelspec": {
   "display_name": "PythonData",
   "language": "python",
   "name": "pythondata"
  },
  "language_info": {
   "codemirror_mode": {
    "name": "ipython",
    "version": 3
   },
   "file_extension": ".py",
   "mimetype": "text/x-python",
   "name": "python",
   "nbconvert_exporter": "python",
   "pygments_lexer": "ipython3",
   "version": "3.7.13"
  }
 },
 "nbformat": 4,
 "nbformat_minor": 5
}
